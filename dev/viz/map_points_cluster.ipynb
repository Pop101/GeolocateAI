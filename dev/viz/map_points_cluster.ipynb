{
 "cells": [
  {
   "cell_type": "code",
   "execution_count": 1,
   "metadata": {},
   "outputs": [],
   "source": [
    "import polars as pl\n",
    "import datashader as ds\n",
    "import datashader.transfer_functions as tf\n",
    "from datashader.utils import lnglat_to_meters\n",
    "import colorcet as cc\n",
    "import numpy as np\n",
    "from IPython.display import display\n",
    "\n",
    "import warnings\n",
    "warnings.filterwarnings(\"ignore\", category=RuntimeWarning, module=\"datashader\")"
   ]
  },
  {
   "cell_type": "markdown",
   "metadata": {},
   "source": [
    "# Where are our datapoints?\n",
    "Do we have good coverage of the whole globe? Are we missing key places? Are there any suspicious patterns or gaps?"
   ]
  },
  {
   "cell_type": "code",
   "execution_count": 2,
   "metadata": {},
   "outputs": [],
   "source": [
    "# Load the data\n",
    "df = pl.read_csv(\"../data/clustered_coords.csv\")\n",
    "df = df.select([\"lon\", \"lat\", \"cluster\"])\n",
    "\n",
    "# mercator projection\n",
    "df = df.drop_nulls(subset=[\"lon\", \"lat\"]).filter(pl.col(\"lon\").is_not_nan() & pl.col(\"lat\").is_not_nan())\n",
    "df = df.with_columns([\n",
    "    pl.struct([pl.col(\"lon\"), pl.col(\"lat\")])\n",
    "    .map_elements(lambda s: lnglat_to_meters(s[\"lon\"], s[\"lat\"]), return_dtype=pl.List(pl.Float64))\n",
    "    .alias(\"coords\")\n",
    "]).with_columns([\n",
    "    pl.col(\"coords\").list.get(0).alias(\"x\"),\n",
    "    pl.col(\"coords\").list.get(1).alias(\"y\")\n",
    "]).select([\"x\", \"y\", \"cluster\"])"
   ]
  },
  {
   "cell_type": "code",
   "execution_count": null,
   "metadata": {},
   "outputs": [],
   "source": [
    "df.group_by([\"cluster\"]).agg(pl.count()).sort(\"count\", descending=True)"
   ]
  },
  {
   "cell_type": "code",
   "execution_count": 11,
   "metadata": {},
   "outputs": [],
   "source": [
    "x_range = (df[\"x\"].min(), df[\"x\"].max())\n",
    "y_range = (-8723970.81755283, 11723970.81755283)\n",
    "\n",
    "buffer = (x_range[1] - x_range[0]) * 0.02  # 2% buffer\n",
    "x_range = (x_range[0] - buffer, x_range[1] + buffer)\n",
    "y_range = (y_range[0] - buffer, y_range[1] + buffer)"
   ]
  },
  {
   "cell_type": "code",
   "execution_count": 12,
   "metadata": {},
   "outputs": [],
   "source": [
    "pandas_df = df.select([\"x\", \"y\", \"cluster\"]).to_pandas()\n",
    "\n",
    "pandas_df.dropna(subset=['x', 'y'], inplace=True)\n",
    "pandas_df = pandas_df[(~np.isinf(pandas_df['x'])) & (~np.isinf(pandas_df['y']))]\n",
    "\n",
    "pandas_df['x'] = pandas_df['x'].astype(float)\n",
    "pandas_df['y'] = pandas_df['y'].astype(float)\n",
    "\n",
    "pandas_df['cluster'] = pandas_df['cluster'].astype('category')"
   ]
  },
  {
   "cell_type": "code",
   "execution_count": null,
   "metadata": {},
   "outputs": [],
   "source": [
    "# Try rendering the test subset\n",
    "canvas = ds.Canvas(plot_width=1000, plot_height=500, x_range=x_range, y_range=y_range)\n",
    "agg = canvas.points(pandas_df, 'x', 'y', ds.count())\n",
    "img = tf.shade(agg, cmap=['white', 'red'])\n",
    "display(img.to_pil())"
   ]
  },
  {
   "cell_type": "code",
   "execution_count": 14,
   "metadata": {},
   "outputs": [],
   "source": [
    "# Color by cluster\n",
    "# waaaayy too many clusters, so apply modulo to reduce to 22\n",
    "reduced_clusters = pandas_df.copy()\n",
    "reduced_clusters = reduced_clusters[reduced_clusters['cluster'].astype('int') > 0]\n",
    "reduced_clusters['cluster'] = reduced_clusters['cluster'].cat.codes % 22\n",
    "reduced_clusters['cluster'] = reduced_clusters['cluster'].astype('category')"
   ]
  },
  {
   "cell_type": "code",
   "execution_count": null,
   "metadata": {},
   "outputs": [],
   "source": [
    "# A more direct approach using datashader's spreading functions\n",
    "canvas = ds.Canvas(plot_width=3000, plot_height=1500, x_range=x_range, y_range=y_range)\n",
    "\n",
    "# First, get separate aggregations for each category\n",
    "aggregations = {}\n",
    "for cat in reduced_clusters['cluster'].cat.categories:\n",
    "    cat_df = reduced_clusters[reduced_clusters['cluster'] == cat]\n",
    "    if len(cat_df) > 0:\n",
    "        aggregations[cat] = canvas.points(cat_df, 'x', 'y')\n",
    "\n",
    "# Now combine them with the winner-takes-all approach\n",
    "import numpy as np\n",
    "import xarray as xr\n",
    "\n",
    "# Create a blank canvas for the result\n",
    "result = xr.zeros_like(aggregations[list(aggregations.keys())[0]])\n",
    "\n",
    "# Create a mask array to track where we have data\n",
    "has_data = xr.zeros_like(result, dtype=bool)\n",
    "\n",
    "# For each pixel, find the category with the highest count\n",
    "cat_indices = xr.zeros_like(result, dtype=np.int8)\n",
    "\n",
    "for i, (cat, agg) in enumerate(aggregations.items()):\n",
    "    # Where this category has more points than what's currently stored\n",
    "    mask = (agg > result).values\n",
    "    \n",
    "    # Update the result and category index where this category wins\n",
    "    result.values[mask] = agg.values[mask]\n",
    "    cat_indices.values[mask] = i  # +1 to avoid 0 (background)\n",
    "    has_data.values[mask] = True\n",
    "\n",
    "# Only shade areas where we have data\n",
    "masked_indices = cat_indices.where(has_data)\n",
    "\n",
    "# Shade with the colormap\n",
    "img = tf.shade(masked_indices, cmap=cc.glasbey_dark, how='eq_hist', min_alpha=50)\n",
    "\n",
    "# Set background for the transparent areas\n",
    "img = tf.set_background(img, color='black')\n",
    "img.to_pil().save(\"colored_clusters.png\")\n",
    "display(img.to_pil())"
   ]
  },
  {
   "cell_type": "code",
   "execution_count": null,
   "metadata": {},
   "outputs": [],
   "source": [
    "canvas = ds.Canvas(plot_width=3000, plot_height=1500, x_range=x_range, y_range=y_range)\n",
    "\n",
    "agg_density = canvas.points(pandas_df, 'x', 'y', ds.count())\n",
    "img_density = tf.shade(agg_density, cmap=cc.fire, how='eq_hist', min_alpha=50, alpha=255)\n",
    "img_density = tf.set_background(img_density, color='black')\n",
    "img_density.to_pil().save('data_density.png')\n",
    "display(img_density.to_pil())"
   ]
  }
 ],
 "metadata": {
  "kernelspec": {
   "display_name": "Python 3 (ipykernel)",
   "language": "python",
   "name": "python3"
  },
  "language_info": {
   "codemirror_mode": {
    "name": "ipython",
    "version": 3
   },
   "file_extension": ".py",
   "mimetype": "text/x-python",
   "name": "python",
   "nbconvert_exporter": "python",
   "pygments_lexer": "ipython3",
   "version": "3.12.8"
  }
 },
 "nbformat": 4,
 "nbformat_minor": 2
}
